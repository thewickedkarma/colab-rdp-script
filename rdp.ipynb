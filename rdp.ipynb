{
  "nbformat": 4,
  "nbformat_minor": 0,
  "metadata": {
    "colab": {
      "name": "Untitled1.ipynb",
      "provenance": [],
      "authorship_tag": "ABX9TyNuW6p7rGJRexDLJTYF13jR",
      "include_colab_link": true
    },
    "kernelspec": {
      "name": "python3",
      "display_name": "Python 3"
    },
    "language_info": {
      "name": "python"
    }
  },
  "cells": [
    {
      "cell_type": "markdown",
      "metadata": {
        "id": "view-in-github",
        "colab_type": "text"
      },
      "source": [
        "<a href=\"https://colab.research.google.com/github/thewickedkarma/rdp-script/blob/main/rdp.ipynb\" target=\"_parent\"><img src=\"https://colab.research.google.com/assets/colab-badge.svg\" alt=\"Open In Colab\"/></a>"
      ]
    },
    {
      "cell_type": "code",
      "execution_count": null,
      "metadata": {
        "id": "Blt4t0hQnpLF"
      },
      "outputs": [],
      "source": [
        "print(\"This script was created by thewickedkarma. Follow them on github https://github.com/thewickedkarma\")\n",
        "import os, subprocess\n",
        "username=input(\"Enter your username: \")\n",
        "password=input(\"Enter a password: \")\n",
        "print(\"remember this password as it will be used while providing superuser commands on your dektop \\n creating your user....have some patience\")\n",
        "os.system(f\"useradd -m {username}\")\n",
        "os.system(f\"adduser {username} sudo\")\n",
        "os.system(f\"echo '{username}:{password}' | sudo chpasswd\")\n",
        "os.system(\"sed -i 's/\\/bin\\/sh/\\/bin\\/bash/g' /etc/passwd\")\n",
        "print(f\"User created and configured having username `{username}` and password `{password}`\")\n",
        "CRP= input(\"Paste your Chrome Remote Desktop Command you had copied: \")\n",
        "Pin=input(\"Choose a pin for your chrome RDP(minimum 6 digits): \")\n",
        "print(\"Explore my youtube channel while it completes installing the RDP:  https://www.youtube.com/channel/UC-w_mhTHR6-Lc28PSiv7kaQ/videos\")\n",
        "Autostart = True\n",
        "class CRD:\n",
        "    def __init__(self, user):\n",
        "        os.system(\"apt update\")\n",
        "        self.installCRD()\n",
        "        self.installDesktopEnvironment()\n",
        "        self.installGoogleChorme()\n",
        "        self.finish(user)\n",
        "        print(\"\\nRDP created succesfully move to https://remotedesktop.google.com/access\")\n",
        "    @staticmethod\n",
        "    def installCRD():\n",
        "        print(\"Installing Chrome Remote Desktop\")\n",
        "        subprocess.run(['wget', 'https://dl.google.com/linux/direct/chrome-remote-desktop_current_amd64.deb'], stdout=subprocess.PIPE)\n",
        "        subprocess.run(['dpkg', '--install', 'chrome-remote-desktop_current_amd64.deb'], stdout=subprocess.PIPE)\n",
        "        subprocess.run(['apt', 'install', '--assume-yes', '--fix-broken'], stdout=subprocess.PIPE)\n",
        "\n",
        "    @staticmethod\n",
        "    def installDesktopEnvironment():\n",
        "        print(\"Installing Desktop Environment\")\n",
        "        os.system(\"export DEBIAN_FRONTEND=noninteractive\")\n",
        "        os.system(\"apt install --assume-yes xfce4 desktop-base xfce4-terminal\")\n",
        "        os.system(\"bash -c 'echo \\\"exec /etc/X11/Xsession /usr/bin/xfce4-session\\\" > /etc/chrome-remote-desktop-session'\")\n",
        "        os.system(\"apt remove --assume-yes gnome-terminal\")\n",
        "        os.system(\"apt install --assume-yes xscreensaver\")\n",
        "        os.system(\"systemctl disable lightdm.service\")\n",
        "\n",
        "    @staticmethod\n",
        "    def installGoogleChorme():\n",
        "        print(\"Installing Google Chrome\")\n",
        "        subprocess.run([\"wget\", \"https://dl.google.com/linux/direct/google-chrome-stable_current_amd64.deb\"], stdout=subprocess.PIPE)\n",
        "        subprocess.run([\"dpkg\", \"--install\", \"google-chrome-stable_current_amd64.deb\"], stdout=subprocess.PIPE)\n",
        "        subprocess.run(['apt', 'install', '--assume-yes', '--fix-broken'], stdout=subprocess.PIPE)\n",
        "\n",
        "    @staticmethod\n",
        "    def finish(user):\n",
        "        print(\"Finalizing\")\n",
        "        if Autostart:\n",
        "            os.makedirs(f\"/home/{user}/.config/autostart\", exist_ok=True)\n",
        "            link = \"https://github.com/thewickedkarma/\"\n",
        "            colab_autostart = \"\"\"[Desktop Entry]\n",
        "\n",
        "Type=Application\n",
        "Name=Colab\n",
        "Exec=sh -c \"sensible-browser {}\"\n",
        "Icon=\n",
        "Comment=Open a predefined notebook at session signin.\n",
        "X-GNOME-Autostart-enabled=true\"\"\".format(link)\n",
        "            with open(f\"/home/{user}/.config/autostart/colab.desktop\", \"w\") as f:\n",
        "                f.write(colab_autostart)\n",
        "            os.system(f\"chmod +x /home/{user}/.config/autostart/colab.desktop\")\n",
        "            os.system(f\"chown {user}:{user} /home/{user}/.config\")\n",
        "\n",
        "        os.system(f\"adduser {user} chrome-remote-desktop\")\n",
        "        os.system(\"wget -O ~/Pictures/wall.jpg https://w.wallhaven.cc/full/9m/wallhaven-9m7l2k.jpg\")\n",
        "        os.system(\"xfconf-query -c xfce4-desktop -p /backdrop/screen0/monitor0/workspace0/last-image -s ~/Pictures/wall.jpg\")\n",
        "        command = f\"{CRP} --pin={Pin}\"\n",
        "        os.system(f\"su - {user} -c '{command}'\")\n",
        "        os.system(\"service chrome-remote-desktop start\")\n",
        "        os.system(\"sleep 77777777\")\n",
        "        \n",
        "\n",
        "        print(\"Finished Succesfully\")\n",
        "        print(\"RDP created succesfully move to https://remotedesktop.google.com/access\")\n",
        "\n",
        "try:\n",
        "    if CRP == \"\":\n",
        "        print(\"Please enter authcode from the given link\")\n",
        "    elif len(str(Pin)) < 6:\n",
        "        print(\"Enter a pin more or equal to 6 digits\")\n",
        "    else:\n",
        "        CRD(username)\n",
        "except NameError as e:\n",
        "    print(\"'username' variable not found, Create a user first\")"
      ]
    }
  ]
}
